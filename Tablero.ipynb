{
 "cells": [
  {
   "cell_type": "markdown",
   "metadata": {},
   "source": [
    "IMPRIMIR TABLERO"
   ]
  },
  {
   "cell_type": "code",
   "execution_count": 3,
   "metadata": {},
   "outputs": [
    {
     "name": "stdout",
     "output_type": "stream",
     "text": [
      "   \u001b[4ma b c d e f g h i j \u001b[0m\t\t\u001b[4ma b c d e f g h i j \u001b[0m\n",
      "1 |\u001b[4m | | | | | | | | | |\u001b[0m\n",
      "2 |\u001b[4m | | | | | | | | | |\u001b[0m\n",
      "3 |\u001b[4m | | | | | | | | | |\u001b[0m\n",
      "4 |\u001b[4m | | | | | | | | | |\u001b[0m\n",
      "5 |\u001b[4m | | | | | | | | | |\u001b[0m\n",
      "6 |\u001b[4m | | | | | | | | | |\u001b[0m\n",
      "7 |\u001b[4m | | | | | | | | | |\u001b[0m\n",
      "8 |\u001b[4m | | | | | | | | | |\u001b[0m\n",
      "9 |\u001b[4m | | | | | | | | | |\u001b[0m\n",
      "10|\u001b[4m | | | | | | | | | |\u001b[0m\t\t\n"
     ]
    }
   ],
   "source": [
    "class Tablero:\n",
    "    \n",
    "    tableros = {}\n",
    "    \n",
    "    def __init__(self):\n",
    "        \n",
    "        for key in [a + str(b) for a in 'abcdefghij' for b in range(1,11)]:\n",
    "            self.tableros[key] = {'jugador':' ','robot':' '}\n",
    "        \n",
    "    def print_board(self):\n",
    "        print('   \\033[4m' + ' '.join([a for a in 'abcdefghij']) + ' \\033[0m\\t\\t\\033[4m' + ' '.join([a for a in 'abcdefghij']) + ' \\033[0m')\n",
    "        print(' |\\033[4m | | | | | | | | | |\\033[0m\\n'.join([str(int(''.join(b)) + 1) for b in '0123456789']) + '|\\033[4m | | | | | | | | | |\\033[0m\\t\\t')\n",
    "        return None\n",
    "    \n",
    "tablero = Tablero()\n",
    "tablero.print_board()\n",
    "    \n",
    "    "
   ]
  },
  {
   "cell_type": "code",
   "execution_count": 6,
   "metadata": {},
   "outputs": [
    {
     "name": "stdout",
     "output_type": "stream",
     "text": [
      "   \u001b[4ma b c d e f g h i j \u001b[0m\n",
      "1 |\u001b[4m | | | | | | | | | |\u001b[0m\n",
      "2 |\u001b[4m | | | | | | | | | |\u001b[0m\n",
      "3 |\u001b[4m | | | | | | | | | |\u001b[0m\n",
      "4 |\u001b[4m | | | | | | | | | |\u001b[0m\n",
      "5 |\u001b[4m | | | | | | | | | |\u001b[0m\n",
      "6 |\u001b[4m | | | | | | | | | |\u001b[0m\n",
      "7 |\u001b[4m | | | | | | | | | |\u001b[0m\n",
      "8 |\u001b[4m | | | | | | | | | |\u001b[0m\n",
      "9 |\u001b[4m | | | | | | | | | |\u001b[0m\n",
      "10|\u001b[4m | | | | | | | | | |\u001b[0m\n"
     ]
    }
   ],
   "source": [
    "print('   \\033[4m' + ' '.join([a for a in 'abcdefghij']) + ' \\033[0m')\n",
    "print(' |\\033[4m | | | | | | | | | |\\033[0m\\n'.join([str(int(''.join(b)) + 1) for b in '0123456789']) + '|\\033[4m | | | | | | | | | |\\033[0m')"
   ]
  },
  {
   "cell_type": "code",
   "execution_count": 7,
   "metadata": {},
   "outputs": [
    {
     "name": "stdout",
     "output_type": "stream",
     "text": [
      "   \u001b[4ma b c d e f g h i j \u001b[0m\n",
      "1 |\u001b[4mo|x| | | | | | | | |\u001b[0m\n",
      "2 |\u001b[4m | | | | | |o| | | |\u001b[0m\n",
      "3 |\u001b[4m | | |o| | | | | | |\u001b[0m\n",
      "4 |\u001b[4m | | | | | | | | | |\u001b[0m\n",
      "5 |\u001b[4m | | | | | |o| | | |\u001b[0m\n",
      "6 |\u001b[4m | | |x| | | | | | |\u001b[0m\n",
      "7 |\u001b[4m | | |x| | | | | | |\u001b[0m\n",
      "8 |\u001b[4m | | | |o| | | | | |\u001b[0m\n",
      "9 |\u001b[4m | | | | | | |o| | |\u001b[0m\n",
      "10|\u001b[4m |o| | | | |o|x|x| |\u001b[0m\n"
     ]
    }
   ],
   "source": [
    "print('   \\033[4m' + ' '.join([a for a in 'abcdefghij']) + ' \\033[0m')\n",
    "#print('   ' + ' '.join(['_' for a in 'abcdefghij']))\n",
    "print('1 |\\033[4mo|x| | | | | | | | |\\033[0m')\n",
    "print('2 |\\033[4m | | | | | |o| | | |\\033[0m')\n",
    "print('3 |\\033[4m | | |o| | | | | | |\\033[0m')\n",
    "print('4 |\\033[4m | | | | | | | | | |\\033[0m')\n",
    "print('5 |\\033[4m | | | | | |o| | | |\\033[0m')\n",
    "print('6 |\\033[4m | | |x| | | | | | |\\033[0m')\n",
    "print('7 |\\033[4m | | |x| | | | | | |\\033[0m')\n",
    "print('8 |\\033[4m | | | |o| | | | | |\\033[0m')\n",
    "print('9 |\\033[4m | | | | | | |o| | |\\033[0m')\n",
    "print('10|\\033[4m |o| | | | |o|x|x| |\\033[0m')\n",
    "#print(' |\\n'.join([str(int(''.join(b)) + 1) for b in '123456789']) + '|')"
   ]
  },
  {
   "cell_type": "code",
   "execution_count": null,
   "metadata": {},
   "outputs": [],
   "source": []
  }
 ],
 "metadata": {
  "kernelspec": {
   "display_name": "Python 3",
   "language": "python",
   "name": "python3"
  },
  "language_info": {
   "codemirror_mode": {
    "name": "ipython",
    "version": 3
   },
   "file_extension": ".py",
   "mimetype": "text/x-python",
   "name": "python",
   "nbconvert_exporter": "python",
   "pygments_lexer": "ipython3",
   "version": "3.7.6"
  }
 },
 "nbformat": 4,
 "nbformat_minor": 4
}
