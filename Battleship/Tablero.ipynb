{
 "cells": [
  {
   "cell_type": "markdown",
   "metadata": {},
   "source": [
    "OBJETO TABLERO Y MÉTODO PARA IMPRIMIR TABLERO"
   ]
  },
  {
   "cell_type": "code",
   "execution_count": 18,
   "metadata": {},
   "outputs": [],
   "source": [
    "class Tablero:\n",
    "    \n",
    "    tableros = {}\n",
    "    \n",
    "    def __init__(self):\n",
    "        for key in [a + str(b) for a in 'abcdefghij' for b in range(1,11)]:\n",
    "            self.tableros[key] = {'jugador':' ','robot':' '}\n",
    "        \n",
    "    def print_board(self):\n",
    "        print('\\t \\033[4mJugador\\033[0m\\t\\t\\t  \\033[4mRobot\\033[0m')\n",
    "        print('   \\033[4m' + ' '.join([a for a in 'abcdefghij']) + ' \\033[0m\\t\\t   \\033[4m' + ' '.join([a for a in 'abcdefghij']) + ' \\033[0m')\n",
    "        filas_imprimir = []\n",
    "        for pos in [a + str(b) for b in range(1,11) for a in 'abcdefghij']:\n",
    "            if pos[0:1] == 'a':\n",
    "                tmp_jugador = []\n",
    "                tmp_robot = []\n",
    "            tmp_jugador.append(self.tableros[pos]['jugador'])\n",
    "            tmp_robot.append(self.tableros[pos]['robot'].replace('◘',' '))\n",
    "            if pos[0:1] == 'j':\n",
    "                filas_imprimir.append((pos[1:] + ' ')[0:2] + '|\\033[4m' + '|'.join(tmp_jugador) + '|\\033[0m\\t\\t' + (pos[1:] + ' ')[0:2] + '|\\033[4m' + '|'.join(tmp_robot) + '|\\033[0m')\n",
    "                print(filas_imprimir[-1])\n",
    "        return None\n",
    "    \n",
    "    def add_boat_to_board(self, barco, jugador):\n",
    "        for pos in barco.posicion:\n",
    "            self.tableros[pos][jugador] = '◘'\n",
    "        self.print_board()\n",
    "    \n",
    "    def take_a_shot(self, posicion, jugador):\n",
    "        if self.tableros[posicion][jugador] in ['o', 'X']:\n",
    "            return (0, 'Ya existe un disparo en esta posición, inténtalo de nuevo.')\n",
    "        else:\n",
    "            if self.tableros[posicion][jugador] == ' ':\n",
    "                self.tableros[posicion][jugador] = 'o'\n",
    "                return (1, 'Que mala punteria, inténtalo de nuevo.')\n",
    "            elif self.tableros[posicion][jugador] == '◘':\n",
    "                self.tableros[posicion][jugador] = 'X'\n",
    "                return (2, 'Buen disparo! $$$$ no lo vio venir.')\n",
    "            else:\n",
    "                return (3, f'Error desconocido {self.tableros[posicion][jugador]}')\n",
    "        \n",
    "    def board_status(self):\n",
    "        cuenta_jugador = 0\n",
    "        cuenta_robot = 0\n",
    "        for position in self.tableros.values():\n",
    "            if position['jugador'] == '◘':\n",
    "                cuenta_jugador += 1\n",
    "            if position['robot'] == '◘':\n",
    "                cuenta_robot += 1\n",
    "        return [cuenta_jugador, cuenta_robot]\n",
    "                \n",
    "    \n",
    "#Para llamar el método de impresión\n",
    "#tablero = Tablero()\n",
    "#tablero.print_board()\n",
    "#tablero.tableros['a1']['jugador'] = '◘'\n",
    "#tablero.print_board()\n",
    "#print(tablero.board_status())\n",
    "#print(tablero.take_a_shot('a1', 'robot'))\n",
    "#tablero.print_board()\n",
    "#print(tablero.board_status())\n",
    "    \n",
    "\n",
    "    \n",
    "    \n"
   ]
  },
  {
   "cell_type": "code",
   "execution_count": null,
   "metadata": {},
   "outputs": [],
   "source": []
  }
 ],
 "metadata": {
  "kernelspec": {
   "display_name": "Python 3",
   "language": "python",
   "name": "python3"
  },
  "language_info": {
   "codemirror_mode": {
    "name": "ipython",
    "version": 3
   },
   "file_extension": ".py",
   "mimetype": "text/x-python",
   "name": "python",
   "nbconvert_exporter": "python",
   "pygments_lexer": "ipython3",
   "version": "3.7.6"
  }
 },
 "nbformat": 4,
 "nbformat_minor": 4
}
