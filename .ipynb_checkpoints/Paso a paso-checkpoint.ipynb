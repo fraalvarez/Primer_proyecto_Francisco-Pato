{
 "cells": [
  {
   "cell_type": "markdown",
   "metadata": {},
   "source": [
    "Empecé a ver que se puede usar pygame el cual nos puede permitir visaulizar el juego en gráfico"
   ]
  },
  {
   "cell_type": "markdown",
   "metadata": {},
   "source": [
    "# START DEL JUEGO"
   ]
  },
  {
   "cell_type": "code",
   "execution_count": null,
   "metadata": {},
   "outputs": [],
   "source": [
    "#Delimitar el tablero (a-j) y (1-10) dando como final un tablero de 10x10\n",
    "\n",
    "#Debe de existir como primer comando el START que iniciará el juego\n"
   ]
  },
  {
   "cell_type": "markdown",
   "metadata": {},
   "source": [
    "ELEGIR POSICIONES DE NAVES"
   ]
  },
  {
   "cell_type": "code",
   "execution_count": null,
   "metadata": {},
   "outputs": [],
   "source": [
    "#El jugador inserta las 3 posiciones de sus barcos\n",
    "#El jugador tendrá 3 barcos, uno de una celda (ejemplo a5), uno de 2 celdas (b3:b4) y uno de 3 celdas (c1,d1,e1)\n",
    "#Con lo anterior se permite que el jugador pueda escoger una posición vertical u horizontal (Por medio de IF?) \n",
    "\n",
    "ejemplo\n",
    "donde = input(\"Elige la posición alfanumérica de tu barco:\")\n",
    "print(f\"ahora elige si será colocado de forma vertical u horizontal, {donde}\")\n",
    "posicion = input()\n",
    "    if posicion = v\n",
    "    y +=1\n",
    "    else posicion = h\n",
    "    x +=1\n",
    "(jajajaja algo así)\n",
    "#cada que el jugador escoja una nave, pasará a colocar la posición de la segunda y así hasta la tercera\n",
    "#hacer un break cuando se den las 3 posiciones\n",
    "#hacer los else/elif por si el jugador proporciona una posicion fuera de las coordenadas o no completa la información\n",
    "#si sucede lo anterior, pedirle de nuevo al jugador su posicion para completar los 3 barcos\n",
    "# Pregunta: para identificar el tipo de barco podríamos poner como un ==, tipo barco 1(A5)== *, BARCO 2(b1:b2)==^^\n",
    "#aqui por medio de \"random\" ejecutamos que la máquina seleccione sus 3 posiciones de barco en el tablero,\n",
    "el random para la maquina tendría que ser letra, numero  y para los barcos de 2 y 3 posiciones, random V o H\n",
    "# vi una funcion de importar time, donde puedes poner segundos o milisegundos para que se siga ejecutando tal comando, \n",
    "#aqui por ejemplo sería para empezar el juego, es opción\n"
   ]
  },
  {
   "cell_type": "markdown",
   "metadata": {},
   "source": [
    "DISPAROS"
   ]
  },
  {
   "cell_type": "code",
   "execution_count": null,
   "metadata": {},
   "outputs": [],
   "source": [
    "#por medio de un input indicar al jugador que realice un disparo\n",
    "#Poner por medio de IF y else si la coordenada dada coincide con alguna posicion de la maquina, mensaje \"sigue así, golpear primero, gorpear fuerte, sin piedad\"\n",
    "#si por el contrario, no coincide con ninguna coordenada de la maquina, imprmir \"que mala puntería\"\n",
    "#Poner en codigo que ahora es el turno de la maquina (programar que es un turno y un turno)\n",
    "#Por medio de random la máquina proporcionará una posción alfanumerica (H5)\n",
    "#Si del resultado de random, coincide con alguna posicion de los barcos del jugador imprimir (\"te han jodido\")\n",
    "#si por el contrario, no coincide con niguna de las posiciones del jugador imprimir (\"sigues vivo \")\n",
    "#Cada que corre un disparo, podemos imprimir el tablero como las lineas que me enseñaste? cambiando con signos los barcos dañados\n"
   ]
  },
  {
   "cell_type": "markdown",
   "metadata": {},
   "source": [
    "TERMINO DEL JUEGO"
   ]
  },
  {
   "cell_type": "code",
   "execution_count": null,
   "metadata": {},
   "outputs": [],
   "source": [
    "#Al tener \"sigue así, golpear primero, gorpear fuerte, sin piedad\" == 6, imprimir un mensaje de \"Eres el mejor, probaste tu destreza como gamer\"\n",
    "#lo anterior es porque la suma de todas las posiciones de los barcos es igual a 6\n",
    "#por el contrario, si se tiene el texto \"te han jodido\" == 6 veces, imprimir \"joder, te han destruido\"\n",
    "#se puede correr una sintaxis que pregunte por medio de un YES o NO (y/n) si quiere volver a jugar, \n",
    "#si la pregunta anterior es afirmativa, correr un clear y que vuelva a iniciar todo el comando desde un inicio (se puede?)"
   ]
  }
 ],
 "metadata": {
  "kernelspec": {
   "display_name": "Python 3",
   "language": "python",
   "name": "python3"
  },
  "language_info": {
   "codemirror_mode": {
    "name": "ipython",
    "version": 3
   },
   "file_extension": ".py",
   "mimetype": "text/x-python",
   "name": "python",
   "nbconvert_exporter": "python",
   "pygments_lexer": "ipython3",
   "version": "3.8.5"
  }
 },
 "nbformat": 4,
 "nbformat_minor": 4
}
