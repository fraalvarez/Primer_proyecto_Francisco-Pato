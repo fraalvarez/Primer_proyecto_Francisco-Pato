{
 "cells": [
  {
   "cell_type": "markdown",
   "metadata": {},
   "source": [
    "Empecé a ver que se puede usar pygame el cual nos puede permitir visaulizar el juego en gráfico"
   ]
  },
  {
   "cell_type": "markdown",
   "metadata": {},
   "source": [
    "# START DEL JUEGO"
   ]
  },
  {
   "cell_type": "code",
   "execution_count": 1,
   "metadata": {},
   "outputs": [],
   "source": [
    "#Imports\n",
    "import re\n",
    "from random import choice\n",
    "%run Barco.ipynb"
   ]
  },
  {
   "cell_type": "markdown",
   "metadata": {},
   "source": [
    "MÉTODOS INICIALIZAR POSICIONES DE NAVES"
   ]
  },
  {
   "cell_type": "code",
   "execution_count": 2,
   "metadata": {},
   "outputs": [],
   "source": [
    "#Método que realiza el mapeo de la ubicación del barco, así como la orientación en que se extiende.\n",
    "def posicionar_barco(coordenada, orientacion):\n",
    "    if orientacion == 'h':\n",
    "        coordenada_2 = ''\n",
    "        if ''.join(re.findall('[a-j]', coordenada)) == 'j':\n",
    "            coordenada_2 = chr(ord(''.join(re.findall('[a-j]', coordenada))) - 1) + ''.join(re.findall('(10|[1-9])', coordenada))\n",
    "        else:\n",
    "            coordenada_2 = chr(ord(''.join(re.findall('[a-j]', coordenada))) + 1) + ''.join(re.findall('(10|[1-9])', coordenada))\n",
    "    elif orientacion == 'v':\n",
    "        coordenada_2 = ''\n",
    "        if ''.join(re.findall('10', coordenada)) == '10':\n",
    "            coordenada_2 = ''.join(re.findall('[a-j]', coordenada)) + str(int(''.join(re.findall('10', coordenada))) - 1)\n",
    "        else:\n",
    "            coordenada_2 = ''.join(re.findall('[a-j]', coordenada)) + str(int(''.join(re.findall('[1-9]', coordenada))) + 1)\n",
    "    else:\n",
    "        print('Ocurrió un error desconocido.')\n",
    "        return None\n",
    "        \n",
    "    return coordenada_2"
   ]
  },
  {
   "cell_type": "code",
   "execution_count": 3,
   "metadata": {},
   "outputs": [],
   "source": [
    "#El jugador inserta las 3 posiciones de sus barcos\n",
    "#El jugador tendrá 3 barcos, uno de una celda (ejemplo a5), uno de 2 celdas (b3:b4) y uno de 3 celdas (c1,d1,e1)\n",
    "#Con lo anterior se permite que el jugador pueda escoger una posición vertical u horizontal (Por medio de IF?) \n",
    "\n",
    "#Método para inicializar los barcos del jugador\n",
    "def init_jugador_robot(tipo_registro):\n",
    "    flag = True\n",
    "    barco_num = 1\n",
    "    posicion_barcos_jugador = []\n",
    "    barcos_jugador = []\n",
    "    while flag:\n",
    "        if tipo_registro == 'jugador':\n",
    "            donde = input(f'Elige la posición alfanumérica (a-j y 1-10; por ejemplo: f4) de tu barco #{barco_num}: ')\n",
    "        else:\n",
    "            donde = choice(list(tableros.keys()))\n",
    "            #print('Robot: ' + donde)\n",
    "        if re.findall('^[a-j](10|[1-9])$', donde):\n",
    "            while True:\n",
    "                if tipo_registro == 'jugador':\n",
    "                    posicion = input(f'Elige si será colocado de forma vertical (v) u horizontal (h), {donde}: ')\n",
    "                else:\n",
    "                    posicion = choice(['h','v'])\n",
    "                    #print('Robot ' + posicion)\n",
    "                if len(re.findall(r'^(v|h)$', posicion)) > 0:\n",
    "                    break\n",
    "                else:\n",
    "                    print('¡Error! Escriba \\'v\\' (vertical) o \\'h\\' (horizontal).')\n",
    "\n",
    "            donde_2 = posicionar_barco(donde, posicion)\n",
    "            if donde_2 != None:\n",
    "                if donde in [pos for posiciones in posicion_barcos_jugador for pos in posiciones] or donde_2 in [pos for posiciones in posicion_barcos_jugador for pos in posiciones]:\n",
    "                #if donde in posicion_barcos_jugador or donde_2 in posicion_barcos_jugador:\n",
    "                    if tipo_registro == 'jugador':\n",
    "                        print('Existe colisión con otro barco en esta posición, intente de nuevo.')\n",
    "                else:\n",
    "                    posicion_barco = []\n",
    "                    posicion_barco.append(donde)\n",
    "                    posicion_barco.append(donde_2)\n",
    "                    posicion_barcos_jugador.append(posicion_barco)\n",
    "                    barcos_jugador.append(Barco(posicion_barcos_jugador))\n",
    "                    if tipo_registro == 'jugador':\n",
    "                        print(f'Se insertó correctamente el barco \\'{barcos_jugador[-1].nombre}\\' en las posiciones: {posicion_barco}')\n",
    "                    else:\n",
    "                        #TODO: Comment out\n",
    "                        print(f'Se insertó correctamente el barco \\'{barcos_jugador[-1].nombre}\\' en las posiciones: {posicion_barco}')\n",
    "                    barco_num += 1\n",
    "                if barco_num == 4:\n",
    "                    flag = False\n",
    "        else:\n",
    "            print('¡Posición no válida! Intenta de nuevo.')\n",
    "        \n",
    "#print(f'Las posiciones de los barcos del jugador son: {posicion_barcos_jugador}')\n",
    "\n",
    "\n",
    "#(jajajaja algo así)\n",
    "#cada que el jugador escoja una nave, pasará a colocar la posición de la segunda y así hasta la tercera\n",
    "#hacer un break cuando se den las 3 posiciones\n",
    "#hacer los else/elif por si el jugador proporciona una posicion fuera de las coordenadas o no completa la información\n",
    "#si sucede lo anterior, pedirle de nuevo al jugador su posicion para completar los 3 barcos\n",
    "# Pregunta: para identificar el tipo de barco podríamos poner como un ==, tipo barco 1(A5)== *, BARCO 2(b1:b2)==^^\n",
    "#aqui por medio de \"random\" ejecutamos que la máquina seleccione sus 3 posiciones de barco en el tablero,\n",
    "#el random para la maquina tendría que ser letra, numero  y para los barcos de 2 y 3 posiciones, random V o H\n",
    "# vi una funcion de importar time, donde puedes poner segundos o milisegundos para que se siga ejecutando tal comando, \n",
    "#aqui por ejemplo sería para empezar el juego, es opción\n"
   ]
  },
  {
   "cell_type": "code",
   "execution_count": null,
   "metadata": {},
   "outputs": [
    {
     "name": "stdout",
     "output_type": "stream",
     "text": [
      "{'a1': {'jugador': ' ', 'robot': ' '}, 'a2': {'jugador': ' ', 'robot': ' '}, 'a3': {'jugador': ' ', 'robot': ' '}, 'a4': {'jugador': ' ', 'robot': ' '}, 'a5': {'jugador': ' ', 'robot': ' '}, 'a6': {'jugador': ' ', 'robot': ' '}, 'a7': {'jugador': ' ', 'robot': ' '}, 'a8': {'jugador': ' ', 'robot': ' '}, 'a9': {'jugador': ' ', 'robot': ' '}, 'a10': {'jugador': ' ', 'robot': ' '}, 'b1': {'jugador': ' ', 'robot': ' '}, 'b2': {'jugador': ' ', 'robot': ' '}, 'b3': {'jugador': ' ', 'robot': ' '}, 'b4': {'jugador': ' ', 'robot': ' '}, 'b5': {'jugador': ' ', 'robot': ' '}, 'b6': {'jugador': ' ', 'robot': ' '}, 'b7': {'jugador': ' ', 'robot': ' '}, 'b8': {'jugador': ' ', 'robot': ' '}, 'b9': {'jugador': ' ', 'robot': ' '}, 'b10': {'jugador': ' ', 'robot': ' '}, 'c1': {'jugador': ' ', 'robot': ' '}, 'c2': {'jugador': ' ', 'robot': ' '}, 'c3': {'jugador': ' ', 'robot': ' '}, 'c4': {'jugador': ' ', 'robot': ' '}, 'c5': {'jugador': ' ', 'robot': ' '}, 'c6': {'jugador': ' ', 'robot': ' '}, 'c7': {'jugador': ' ', 'robot': ' '}, 'c8': {'jugador': ' ', 'robot': ' '}, 'c9': {'jugador': ' ', 'robot': ' '}, 'c10': {'jugador': ' ', 'robot': ' '}, 'd1': {'jugador': ' ', 'robot': ' '}, 'd2': {'jugador': ' ', 'robot': ' '}, 'd3': {'jugador': ' ', 'robot': ' '}, 'd4': {'jugador': ' ', 'robot': ' '}, 'd5': {'jugador': ' ', 'robot': ' '}, 'd6': {'jugador': ' ', 'robot': ' '}, 'd7': {'jugador': ' ', 'robot': ' '}, 'd8': {'jugador': ' ', 'robot': ' '}, 'd9': {'jugador': ' ', 'robot': ' '}, 'd10': {'jugador': ' ', 'robot': ' '}, 'e1': {'jugador': ' ', 'robot': ' '}, 'e2': {'jugador': ' ', 'robot': ' '}, 'e3': {'jugador': ' ', 'robot': ' '}, 'e4': {'jugador': ' ', 'robot': ' '}, 'e5': {'jugador': ' ', 'robot': ' '}, 'e6': {'jugador': ' ', 'robot': ' '}, 'e7': {'jugador': ' ', 'robot': ' '}, 'e8': {'jugador': ' ', 'robot': ' '}, 'e9': {'jugador': ' ', 'robot': ' '}, 'e10': {'jugador': ' ', 'robot': ' '}, 'f1': {'jugador': ' ', 'robot': ' '}, 'f2': {'jugador': ' ', 'robot': ' '}, 'f3': {'jugador': ' ', 'robot': ' '}, 'f4': {'jugador': ' ', 'robot': ' '}, 'f5': {'jugador': ' ', 'robot': ' '}, 'f6': {'jugador': ' ', 'robot': ' '}, 'f7': {'jugador': ' ', 'robot': ' '}, 'f8': {'jugador': ' ', 'robot': ' '}, 'f9': {'jugador': ' ', 'robot': ' '}, 'f10': {'jugador': ' ', 'robot': ' '}, 'g1': {'jugador': ' ', 'robot': ' '}, 'g2': {'jugador': ' ', 'robot': ' '}, 'g3': {'jugador': ' ', 'robot': ' '}, 'g4': {'jugador': ' ', 'robot': ' '}, 'g5': {'jugador': ' ', 'robot': ' '}, 'g6': {'jugador': ' ', 'robot': ' '}, 'g7': {'jugador': ' ', 'robot': ' '}, 'g8': {'jugador': ' ', 'robot': ' '}, 'g9': {'jugador': ' ', 'robot': ' '}, 'g10': {'jugador': ' ', 'robot': ' '}, 'h1': {'jugador': ' ', 'robot': ' '}, 'h2': {'jugador': ' ', 'robot': ' '}, 'h3': {'jugador': ' ', 'robot': ' '}, 'h4': {'jugador': ' ', 'robot': ' '}, 'h5': {'jugador': ' ', 'robot': ' '}, 'h6': {'jugador': ' ', 'robot': ' '}, 'h7': {'jugador': ' ', 'robot': ' '}, 'h8': {'jugador': ' ', 'robot': ' '}, 'h9': {'jugador': ' ', 'robot': ' '}, 'h10': {'jugador': ' ', 'robot': ' '}, 'i1': {'jugador': ' ', 'robot': ' '}, 'i2': {'jugador': ' ', 'robot': ' '}, 'i3': {'jugador': ' ', 'robot': ' '}, 'i4': {'jugador': ' ', 'robot': ' '}, 'i5': {'jugador': ' ', 'robot': ' '}, 'i6': {'jugador': ' ', 'robot': ' '}, 'i7': {'jugador': ' ', 'robot': ' '}, 'i8': {'jugador': ' ', 'robot': ' '}, 'i9': {'jugador': ' ', 'robot': ' '}, 'i10': {'jugador': ' ', 'robot': ' '}, 'j1': {'jugador': ' ', 'robot': ' '}, 'j2': {'jugador': ' ', 'robot': ' '}, 'j3': {'jugador': ' ', 'robot': ' '}, 'j4': {'jugador': ' ', 'robot': ' '}, 'j5': {'jugador': ' ', 'robot': ' '}, 'j6': {'jugador': ' ', 'robot': ' '}, 'j7': {'jugador': ' ', 'robot': ' '}, 'j8': {'jugador': ' ', 'robot': ' '}, 'j9': {'jugador': ' ', 'robot': ' '}, 'j10': {'jugador': ' ', 'robot': ' '}}\n",
      "Bienvenido a BATTLESHIP 3.0, si estás listo para poner a prueba tus habilidades como gamer, atrevete a jugar.\n",
      "Para comenzar, escribe \"y\" para aceptar el reto o un \"n\" si decides retirarte: y\n",
      "Comencemos el juego!\n",
      "Elige la posición alfanumérica de tu barco #1: a1\n",
      "Elige si será colocado de forma vertical (v) u horizontal (h), a1: v\n",
      "Se insertó correctamente el barco 'Pinta' en las posiciones: ['a1', 'a2']\n",
      "Elige la posición alfanumérica de tu barco #2: g5\n",
      "Elige si será colocado de forma vertical (v) u horizontal (h), g5: h\n",
      "Se insertó correctamente el barco 'Pinta' en las posiciones: ['g5', 'h5']\n",
      "Elige la posición alfanumérica de tu barco #3: d9v\n",
      "¡Posición no válida! Intenta de nuevo.\n",
      "Elige la posición alfanumérica de tu barco #3: d9\n",
      "Elige si será colocado de forma vertical (v) u horizontal (h), d9: v\n",
      "Se insertó correctamente el barco 'In Deep Ship' en las posiciones: ['d9', 'd10']\n",
      "Se insertó correctamente el barco 'Holy Ship' en las posiciones: ['d7', 'd8']\n",
      "Se insertó correctamente el barco 'Black Pearl' en las posiciones: ['e10', 'e9']\n",
      "Se insertó correctamente el barco 'In Deep Ship' en las posiciones: ['h10', 'h9']\n"
     ]
    }
   ],
   "source": [
    "#Inicializar el tablero (a-j) y (1-10) dando como final un tablero de 10x10\n",
    "tableros = {}\n",
    "\n",
    "for key in [a + str(b) for a in 'abcdefghij' for b in range(1,11)]:\n",
    "    tableros[key] = {'jugador':' ','robot':' '}\n",
    "#print(tableros)\n",
    "    \n",
    "#Para apuntar a una posición en el tablero deberemos de referirnos de la siguiente manera al ser un 'Nested Dict':\n",
    "# tableros['a1']['robot'] = 'X'\n",
    "# tableros['a1']['jugador'] = 'X'\n",
    "# print(tableros)\n",
    "\n",
    "#Debe de existir como primer comando el START que iniciará el juego\n",
    "\n",
    "print(\"Bienvenido a BATTLESHIP 3.0, si estás listo para poner a prueba tus habilidades como gamer, atrevete a jugar.\")\n",
    "start = True\n",
    "while start:\n",
    "    Start1 = input('Para comenzar, escribe \"y\" para aceptar el reto o un \"n\" si decides retirarte: ')\n",
    "    if Start1.lower() == \"y\":\n",
    "        print(\"Comencemos el juego!\")\n",
    "        #Inicializar los barcos para el jugador y para el robot\n",
    "        init_jugador_robot('jugador')\n",
    "        init_jugador_robot('robot')\n",
    "        #TODO: Llamar al método que inicializa el juego\n",
    "        \n",
    "    elif Start1.lower() == \"n\": \n",
    "        print(\"Vaya, se que regresarás pronto a intentarlo\")\n",
    "        #TODO: Realizar el proceso de terminación del juego\n",
    "    else:\n",
    "        print('La respuesta recibida es incorrecta, inténtalo de nuevo.')\n",
    "        \n",
    "    if input('Otro juego?') == 'n':\n",
    "        start = False #break\n"
   ]
  },
  {
   "cell_type": "markdown",
   "metadata": {},
   "source": [
    "DISPAROS"
   ]
  },
  {
   "cell_type": "code",
   "execution_count": null,
   "metadata": {},
   "outputs": [],
   "source": [
    "#por medio de un input indicar al jugador que realice un disparo\n",
    "#Poner por medio de IF y else si la coordenada dada coincide con alguna posicion de la maquina, mensaje \"sigue así, golpear primero, gorpear fuerte, sin piedad\"\n",
    "#si por el contrario, no coincide con ninguna coordenada de la maquina, imprmir \"fuck, que pésimo eres\"\n",
    "#Poner en codigo que ahora es el turno de la maquina (programar que es un turno y un turno)\n",
    "#Por medio de random la máquina proporcionará una posción alfanumerica (H5)\n",
    "#Si del resultado de random, coincide con alguna posicion de los barcos del jugador imprimir (\"te han jodido\")\n",
    "#si por el contrario, no coincide con niguna de las posiciones del jugador imprimir (\"sigues vivo \")\n",
    "#Cada que corre un disparo, podemos imprimir el tablero como las lineas que me enseñaste? cambiando con signos los barcos dañados\n"
   ]
  },
  {
   "cell_type": "markdown",
   "metadata": {},
   "source": [
    "TERMINO DEL JUEGO"
   ]
  },
  {
   "cell_type": "code",
   "execution_count": null,
   "metadata": {},
   "outputs": [],
   "source": [
    "#Al tener \"sigue así, golpear primero, gorpear fuerte, sin piedad\" == 6, imprimir un mensaje de \"Eres el mejor, miyagi estaría orgulloso\"\n",
    "#lo anterior es porque la suma de todas las posiciones de los barcos es igual a 6\n",
    "#por el contrario, si se tiene el texto \"te han jodido\" == 6 veces, imprimir \"joder, que te han destruido\"\n",
    "#se puede correr una sintaxis que pregunte por medio de un YES o NO (y/n) si quiere volver a jugar, \n",
    "#si la pregunta anterior es afirmativa, correr un clear y que vuelva a iniciar todo el comando desde un inicio (se puede?)"
   ]
  }
 ],
 "metadata": {
  "kernelspec": {
   "display_name": "Python 3",
   "language": "python",
   "name": "python3"
  },
  "language_info": {
   "codemirror_mode": {
    "name": "ipython",
    "version": 3
   },
   "file_extension": ".py",
   "mimetype": "text/x-python",
   "name": "python",
   "nbconvert_exporter": "python",
   "pygments_lexer": "ipython3",
   "version": "3.7.6"
  }
 },
 "nbformat": 4,
 "nbformat_minor": 4
}
