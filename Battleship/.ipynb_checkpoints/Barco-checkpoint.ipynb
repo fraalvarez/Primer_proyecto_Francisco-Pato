{
 "cells": [
  {
   "cell_type": "markdown",
   "metadata": {},
   "source": [
    "OBJETO BARCO"
   ]
  },
  {
   "cell_type": "code",
   "execution_count": 1,
   "metadata": {},
   "outputs": [],
   "source": [
    "from random import choice\n",
    "\n",
    "class Barco:\n",
    "    \"\"\"\n",
    "    A class used to represent the playing board named Tablero\n",
    "\n",
    "    Attributes\n",
    "    ----------\n",
    "    posicion : str[]\n",
    "        an empty array that will store the boards for the CPU and the player\n",
    "    nombre : str\n",
    "        a string that holds the boats name\n",
    "    nombres : str[]\n",
    "        default list of names that the method uses to set the name randomly on init\n",
    "    \n",
    "    \"\"\"\n",
    "    posicion = []\n",
    "    nombre = ''\n",
    "    nombres = ['In Deep Ship','Holy Ship','Fish and Ships','Full of Ship','Sea Señor',\\\n",
    "               'The Codfather','Titanic','Nautilus','Black Pearl','Flying Dutchman','Niña',\\\n",
    "               'Pinta','Santa Maria']\n",
    "    \n",
    "    def __init__(self, pos, name = None):\n",
    "        if name != None:\n",
    "            self.posicion = pos\n",
    "            self.nombre = name\n",
    "        else:\n",
    "            self.posicion = pos\n",
    "            self.nombre = choice(self.nombres)\n",
    "        "
   ]
  },
  {
   "cell_type": "code",
   "execution_count": null,
   "metadata": {},
   "outputs": [],
   "source": []
  },
  {
   "cell_type": "code",
   "execution_count": null,
   "metadata": {},
   "outputs": [],
   "source": []
  }
 ],
 "metadata": {
  "kernelspec": {
   "display_name": "Python 3",
   "language": "python",
   "name": "python3"
  },
  "language_info": {
   "codemirror_mode": {
    "name": "ipython",
    "version": 3
   },
   "file_extension": ".py",
   "mimetype": "text/x-python",
   "name": "python",
   "nbconvert_exporter": "python",
   "pygments_lexer": "ipython3",
   "version": "3.7.6"
  }
 },
 "nbformat": 4,
 "nbformat_minor": 4
}
