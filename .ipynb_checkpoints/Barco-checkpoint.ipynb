{
 "cells": [
  {
   "cell_type": "code",
   "execution_count": 3,
   "metadata": {},
   "outputs": [],
   "source": [
    "from random import choice\n",
    "\n",
    "class Barco:\n",
    "    posicion = []\n",
    "    nombre = ''\n",
    "    nombres = ['In Deep Ship','Holy Ship','Fish and Ships','Full of Ship','Sea Señor',\\\n",
    "               'The Codfather','Titanic','Nautilus','Black Pearl','Flying Dutchman','Niña',\\\n",
    "               'Pinta','Santa Maria']\n",
    "    \n",
    "    def __init__(self, pos, name = None):\n",
    "        if name != None:\n",
    "            self.posicion = pos\n",
    "            self.nombre = name\n",
    "        else:\n",
    "            self.posicion = pos\n",
    "            self.nombre = choice(self.nombres)\n",
    "        "
   ]
  },
  {
   "cell_type": "code",
   "execution_count": null,
   "metadata": {},
   "outputs": [],
   "source": []
  }
 ],
 "metadata": {
  "kernelspec": {
   "display_name": "Python 3",
   "language": "python",
   "name": "python3"
  },
  "language_info": {
   "codemirror_mode": {
    "name": "ipython",
    "version": 3
   },
   "file_extension": ".py",
   "mimetype": "text/x-python",
   "name": "python",
   "nbconvert_exporter": "python",
   "pygments_lexer": "ipython3",
   "version": "3.7.6"
  }
 },
 "nbformat": 4,
 "nbformat_minor": 4
}
