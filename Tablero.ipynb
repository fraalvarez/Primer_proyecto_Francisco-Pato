{
 "cells": [
  {
   "cell_type": "markdown",
   "metadata": {},
   "source": [
    "IMPRIMIR TABLERO"
   ]
  },
  {
   "cell_type": "code",
   "execution_count": 26,
   "metadata": {},
   "outputs": [
    {
     "name": "stdout",
     "output_type": "stream",
     "text": [
      "\t \u001b[4mJugador\u001b[0m\t\t\t  \u001b[4mRobot\u001b[0m\n",
      "   \u001b[4ma b c d e f g h i j \u001b[0m\t\t   \u001b[4ma b c d e f g h i j \u001b[0m\n",
      "1 |\u001b[4m | | | | | | | | | |\u001b[0m\t\t1 |\u001b[4m | | | | | | | | | |\u001b[0m\n",
      "2 |\u001b[4m | | | | | | | | | |\u001b[0m\t\t2 |\u001b[4m | | | | | | | | | |\u001b[0m\n",
      "3 |\u001b[4m | | | | | | | | | |\u001b[0m\t\t3 |\u001b[4m | | | | | | | | | |\u001b[0m\n",
      "4 |\u001b[4m | | | | | | | | | |\u001b[0m\t\t4 |\u001b[4m | | | | | | | | | |\u001b[0m\n",
      "5 |\u001b[4m | | | | | | | | | |\u001b[0m\t\t5 |\u001b[4m | | | | | | | | | |\u001b[0m\n",
      "6 |\u001b[4m | | | | | | | | | |\u001b[0m\t\t6 |\u001b[4m | | | | | | | | | |\u001b[0m\n",
      "7 |\u001b[4m | | | | | | | | | |\u001b[0m\t\t7 |\u001b[4m | | | | | | | | | |\u001b[0m\n",
      "8 |\u001b[4m | | | | | | | | | |\u001b[0m\t\t8 |\u001b[4m | | | | | | | | | |\u001b[0m\n",
      "9 |\u001b[4m | | | | | | | | | |\u001b[0m\t\t9 |\u001b[4m | | | | | | | | | |\u001b[0m\n",
      "10|\u001b[4m | | | | | | | | | |\u001b[0m\t\t10|\u001b[4m | | | | | | | | | |\u001b[0m\n"
     ]
    }
   ],
   "source": [
    "class Tablero:\n",
    "    \n",
    "    tableros = {}\n",
    "    \n",
    "    def __init__(self):\n",
    "        \n",
    "        for key in [a + str(b) for a in 'abcdefghij' for b in range(1,11)]:\n",
    "            self.tableros[key] = {'jugador':' ','robot':' '}\n",
    "        \n",
    "    def print_board(self):\n",
    "        print('\\t \\033[4mJugador\\033[0m\\t\\t\\t  \\033[4mRobot\\033[0m')\n",
    "        print('   \\033[4m' + ' '.join([a for a in 'abcdefghij']) + ' \\033[0m\\t\\t   \\033[4m' + ' '.join([a for a in 'abcdefghij']) + ' \\033[0m')\n",
    "        filas_imprimir = []\n",
    "        for pos in [a + str(b) for b in range(1,11) for a in 'abcdefghij']:\n",
    "            if pos[0:1] == 'a':\n",
    "                tmp_jugador = []\n",
    "                tmp_robot = []\n",
    "            tmp_jugador.append(tablero.tableros[pos]['jugador'])\n",
    "            tmp_robot.append(tablero.tableros[pos]['robot'])\n",
    "            if pos[0:1] == 'j':\n",
    "                filas_imprimir.append((pos[1:] + ' ')[0:2] + '|\\033[4m' + '|'.join(tmp_jugador) + '|\\033[0m\\t\\t' + (pos[1:] + ' ')[0:2] + '|\\033[4m' + '|'.join(tmp_robot) + '|\\033[0m')\n",
    "                print(filas_imprimir[-1])\n",
    "        return None\n",
    "    \n",
    "#Para llamar el método de impresión\n",
    "tablero = Tablero()\n",
    "tablero.print_board()\n",
    "    \n",
    "\n",
    "    \n",
    "    \n"
   ]
  },
  {
   "cell_type": "code",
   "execution_count": null,
   "metadata": {},
   "outputs": [],
   "source": []
  }
 ],
 "metadata": {
  "kernelspec": {
   "display_name": "Python 3",
   "language": "python",
   "name": "python3"
  },
  "language_info": {
   "codemirror_mode": {
    "name": "ipython",
    "version": 3
   },
   "file_extension": ".py",
   "mimetype": "text/x-python",
   "name": "python",
   "nbconvert_exporter": "python",
   "pygments_lexer": "ipython3",
   "version": "3.7.6"
  }
 },
 "nbformat": 4,
 "nbformat_minor": 4
}
