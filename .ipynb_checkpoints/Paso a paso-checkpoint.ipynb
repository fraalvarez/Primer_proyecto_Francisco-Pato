{
 "cells": [
  {
   "cell_type": "markdown",
   "metadata": {},
   "source": [
    "Empecé a ver que se puede usar pygame el cual nos puede permitir visaulizar el juego en gráfico"
   ]
  },
  {
   "cell_type": "markdown",
   "metadata": {},
   "source": [
    "# START DEL JUEGO"
   ]
  },
  {
   "cell_type": "code",
   "execution_count": null,
   "metadata": {},
   "outputs": [],
   "source": [
    "#Imports\n",
    "import re\n",
    "from random import choice\n",
    "%run Barco.ipynb"
   ]
  },
  {
   "cell_type": "markdown",
   "metadata": {},
   "source": [
    "MÉTODOS INICIALIZAR POSICIONES DE NAVES"
   ]
  },
  {
   "cell_type": "code",
   "execution_count": null,
   "metadata": {},
   "outputs": [],
   "source": [
    "def posicionar_barco(coordenada, orientacion):\n",
    "    if orientacion == 'h':\n",
    "        coordenada_2 = ''\n",
    "        if ''.join(re.findall('[a-j]', coordenada)) == 'j':\n",
    "            coordenada_2 = chr(ord(''.join(re.findall('[a-j]', coordenada))) - 1) + ''.join(re.findall('(10|[1-9])', coordenada))\n",
    "        else:\n",
    "            coordenada_2 = chr(ord(''.join(re.findall('[a-j]', coordenada))) + 1) + ''.join(re.findall('(10|[1-9])', coordenada))\n",
    "    elif orientacion == 'v':\n",
    "        coordenada_2 = ''\n",
    "        if ''.join(re.findall('10', coordenada)) == '10':\n",
    "            coordenada_2 = ''.join(re.findall('[a-j]', coordenada)) + str(int(''.join(re.findall('10', coordenada))) - 1)\n",
    "        else:\n",
    "            coordenada_2 = ''.join(re.findall('[a-j]', coordenada)) + str(int(''.join(re.findall('[1-9]', coordenada))) + 1)\n",
    "    else:\n",
    "        print('Ocurrió un error desconocido.')\n",
    "        return None\n",
    "        \n",
    "    return coordenada_2"
   ]
  },
  {
   "cell_type": "code",
   "execution_count": null,
   "metadata": {},
   "outputs": [],
   "source": [
    "#El jugador inserta las 3 posiciones de sus barcos\n",
    "#El jugador tendrá 3 barcos, uno de una celda (ejemplo a5), uno de 2 celdas (b3:b4) y uno de 3 celdas (c1,d1,e1)\n",
    "#Con lo anterior se permite que el jugador pueda escoger una posición vertical u horizontal (Por medio de IF?) \n",
    "\n",
    "#Método para inicializar los barcos del jugador\n",
    "def init_jugador_robot(tipo_registro):\n",
    "    flag = True\n",
    "    barco_num = 1\n",
    "    posicion_barcos_jugador = []\n",
    "    barcos_jugador = []\n",
    "    while flag:\n",
    "        if tipo_registro == 'jugador':\n",
    "            donde = input(f'Elige la posición alfanumérica de tu barco #{barco_num}: ')\n",
    "        else:\n",
    "            donde = choice(list(tableros.keys()))\n",
    "            #print('Robot: ' + donde)\n",
    "        if re.findall('^[a-j](10|[1-9])$', donde):\n",
    "            while True:\n",
    "                if tipo_registro == 'jugador':\n",
    "                    posicion = input(f'Elige si será colocado de forma vertical (v) u horizontal (h), {donde}: ')\n",
    "                else:\n",
    "                    posicion = choice(['h','v'])\n",
    "                    #print('Robot ' + posicion)\n",
    "                if len(re.findall(r'^(v|h)$', posicion)) > 0:\n",
    "                    break\n",
    "                else:\n",
    "                    print('¡Error! Escriba \\'v\\' (vertical) o \\'h\\' (horizontal).')\n",
    "\n",
    "            donde_2 = posicionar_barco(donde, posicion)\n",
    "            if donde_2 != None:\n",
    "                if donde in [pos for posiciones in posicion_barcos_jugador for pos in posiciones] or donde_2 in [pos for posiciones in posicion_barcos_jugador for pos in posiciones]:\n",
    "                #if donde in posicion_barcos_jugador or donde_2 in posicion_barcos_jugador:\n",
    "                    if tipo_registro == 'jugador':\n",
    "                        print('Existe colisión con otro barco en esta posición, intente de nuevo.')\n",
    "                else:\n",
    "                    posicion_barco = []\n",
    "                    posicion_barco.append(donde)\n",
    "                    posicion_barco.append(donde_2)\n",
    "                    posicion_barcos_jugador.append(posicion_barco)\n",
    "                    barcos_jugador.append(Barco(posicion_barcos_jugador))\n",
    "                    if tipo_registro == 'jugador':\n",
    "                        print(f'Se insertó correctamente el barco \\'{barcos_jugador[-1].nombre}\\' en las posiciones: {posicion_barco}')\n",
    "                    else:\n",
    "                        #TODO: Comment out\n",
    "                        print(f'Se insertó correctamente el barco \\'{barcos_jugador[-1].nombre}\\' en las posiciones: {posicion_barco}')\n",
    "                    barco_num += 1\n",
    "                if barco_num == 4:\n",
    "                    flag = False\n",
    "        else:\n",
    "            print('¡Posición no válida! Intenta de nuevo.')\n",
    "        \n",
    "#print(f'Las posiciones de los barcos del jugador son: {posicion_barcos_jugador}')\n",
    "\n",
    "\n",
    "#(jajajaja algo así)\n",
    "#cada que el jugador escoja una nave, pasará a colocar la posición de la segunda y así hasta la tercera\n",
    "#hacer un break cuando se den las 3 posiciones\n",
    "#hacer los else/elif por si el jugador proporciona una posicion fuera de las coordenadas o no completa la información\n",
    "#si sucede lo anterior, pedirle de nuevo al jugador su posicion para completar los 3 barcos\n",
    "# Pregunta: para identificar el tipo de barco podríamos poner como un ==, tipo barco 1(A5)== *, BARCO 2(b1:b2)==^^\n",
    "#aqui por medio de \"random\" ejecutamos que la máquina seleccione sus 3 posiciones de barco en el tablero,\n",
    "#el random para la maquina tendría que ser letra, numero  y para los barcos de 2 y 3 posiciones, random V o H\n",
    "# vi una funcion de importar time, donde puedes poner segundos o milisegundos para que se siga ejecutando tal comando, \n",
    "#aqui por ejemplo sería para empezar el juego, es opción\n"
   ]
  },
  {
   "cell_type": "code",
   "execution_count": null,
   "metadata": {},
   "outputs": [],
   "source": [
    "#Inicializar el tablero (a-j) y (1-10) dando como final un tablero de 10x10\n",
    "tableros = {}\n",
    "\n",
    "for key in [a + str(b) for a in 'abcdefghij' for b in range(1,11)]:\n",
    "    tableros[key] = {'jugador':' ','robot':' '}\n",
    "    \n",
    "#Para apuntar a una posición en el tablero deberemos de referirnos de la siguiente manera al ser un 'Nested Dict':\n",
    "# tableros['a1']['robot'] = 'X'\n",
    "# tableros['a1']['jugador'] = 'X'\n",
    "# print(tableros)\n",
    "\n",
    "#Debe de existir como primer comando el START que iniciará el juego\n",
    "\n",
    "print(\"Bienvenido a BATTLESHIP 3.0, si estás listo para poner a prueba tus habilidades como gamer, atrevete a jugar.\")\n",
    "start = True\n",
    "while start:\n",
    "    Start1 = input('Para comenzar, escribe \"y\" para aceptar el reto o un \"n\" si decides retirarte: ')\n",
    "    if Start1.lower() == \"y\":\n",
    "        print(\"Comencemos el juego!\")\n",
    "        #Inicializar los barcos para el jugador y para el robot\n",
    "        init_jugador_robot('jugador')\n",
    "        init_jugador_robot('robot')\n",
    "        #TODO: Llamar al método que inicializa el juego\n",
    "        \n",
    "    elif Start1.lower() == \"n\": \n",
    "        print(\"Vaya, se que regresarás pronto a intentarlo\")\n",
    "        #TODO: Realizar el proceso de terminación del juego\n",
    "    else:\n",
    "        print('La respuesta recibida es incorrecta, inténtalo de nuevo.')\n"
   ]
  },
  {
   "cell_type": "markdown",
   "metadata": {},
   "source": [
    "DISPAROS"
   ]
  },
  {
   "cell_type": "code",
   "execution_count": null,
   "metadata": {},
   "outputs": [],
   "source": [
    "#por medio de un input indicar al jugador que realice un disparo\n",
    "#Poner por medio de IF y else si la coordenada dada coincide con alguna posicion de la maquina, mensaje \"sigue así, golpear primero, gorpear fuerte, sin piedad\"\n",
    "#si por el contrario, no coincide con ninguna coordenada de la maquina, imprmir \"fuck, que pésimo eres\"\n",
    "#Poner en codigo que ahora es el turno de la maquina (programar que es un turno y un turno)\n",
    "#Por medio de random la máquina proporcionará una posción alfanumerica (H5)\n",
    "#Si del resultado de random, coincide con alguna posicion de los barcos del jugador imprimir (\"te han jodido\")\n",
    "#si por el contrario, no coincide con niguna de las posiciones del jugador imprimir (\"sigues vivo \")\n",
    "#Cada que corre un disparo, podemos imprimir el tablero como las lineas que me enseñaste? cambiando con signos los barcos dañados\n"
   ]
  },
  {
   "cell_type": "markdown",
   "metadata": {},
   "source": [
    "TERMINO DEL JUEGO"
   ]
  },
  {
   "cell_type": "code",
   "execution_count": null,
   "metadata": {},
   "outputs": [],
   "source": [
    "#Al tener \"sigue así, golpear primero, gorpear fuerte, sin piedad\" == 6, imprimir un mensaje de \"Eres el mejor, miyagi estaría orgulloso\"\n",
    "#lo anterior es porque la suma de todas las posiciones de los barcos es igual a 6\n",
    "#por el contrario, si se tiene el texto \"te han jodido\" == 6 veces, imprimir \"joder, que te han destruido\"\n",
    "#se puede correr una sintaxis que pregunte por medio de un YES o NO (y/n) si quiere volver a jugar, \n",
    "#si la pregunta anterior es afirmativa, correr un clear y que vuelva a iniciar todo el comando desde un inicio (se puede?)"
   ]
  }
 ],
 "metadata": {
  "kernelspec": {
   "display_name": "Python 3",
   "language": "python",
   "name": "python3"
  },
  "language_info": {
   "codemirror_mode": {
    "name": "ipython",
    "version": 3
   },
   "file_extension": ".py",
   "mimetype": "text/x-python",
   "name": "python",
   "nbconvert_exporter": "python",
   "pygments_lexer": "ipython3",
   "version": "3.7.6"
  }
 },
 "nbformat": 4,
 "nbformat_minor": 4
}
